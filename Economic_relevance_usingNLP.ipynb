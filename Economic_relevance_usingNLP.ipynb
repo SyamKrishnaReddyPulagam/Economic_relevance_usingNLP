{
 "cells": [
  {
   "cell_type": "markdown",
   "id": "e3a58b67",
   "metadata": {},
   "source": [
    "# Economic_relevance_usingNLP"
   ]
  },
  {
   "cell_type": "markdown",
   "id": "6e6ceb39",
   "metadata": {},
   "source": [
    "Our main aim is to give a brief overview of performing text classification using Naive Bayes, Logistic Regression, Support Vector Machines and Decision Tree Classifier. We will be using a dataset called \"Economic news article tone and relevance\" which consists of approximately 8000 news articles, which were tagged as relevant or not relevant to the US Economy. Our goal in this kernel is to explore the process of training and testing text classifiers for this dataset."
   ]
  },
  {
   "cell_type": "code",
   "execution_count": 36,
   "id": "aec7d918",
   "metadata": {},
   "outputs": [],
   "source": [
    "import numpy as np\n",
    "import pandas as pd\n",
    "import matplotlib.pyplot as plt\n",
    "import seaborn as sns\n",
    "from sklearn import preprocessing\n",
    "from sklearn.model_selection import train_test_split\n",
    "\n",
    "import re\n",
    "import nltk\n",
    "from nltk.corpus import stopwords\n",
    "from nltk.stem.porter import PorterStemmer\n",
    "\n",
    "from sklearn.naive_bayes import GaussianNB\n",
    "from sklearn.linear_model import LogisticRegression\n",
    "from sklearn.svm import LinearSVC\n",
    "\n",
    "from sklearn.metrics import accuracy_score\n",
    "import sklearn.metrics as metrics\n",
    "from sklearn.model_selection import train_test_split\n",
    "from sklearn.metrics import confusion_matrix \n",
    "from sklearn.metrics import classification_report\n",
    "from sklearn import metrics\n",
    "\n",
    "from sklearn.feature_extraction.text import CountVectorizer\n",
    "from sklearn.metrics import confusion_matrix, accuracy_score"
   ]
  },
  {
   "cell_type": "code",
   "execution_count": 2,
   "id": "27a2cbd5",
   "metadata": {},
   "outputs": [],
   "source": [
    "df=pd.read_csv(\"US-Economic-News.csv\",encoding = 'ISO-8859-1') \n",
    "#dataset contains other columns which are not considered here as we are only trying to predict relevance using NLP\n",
    "df=df[['text','relevance']]"
   ]
  },
  {
   "cell_type": "code",
   "execution_count": 3,
   "id": "edde4535",
   "metadata": {},
   "outputs": [
    {
     "data": {
      "text/html": [
       "<div>\n",
       "<style scoped>\n",
       "    .dataframe tbody tr th:only-of-type {\n",
       "        vertical-align: middle;\n",
       "    }\n",
       "\n",
       "    .dataframe tbody tr th {\n",
       "        vertical-align: top;\n",
       "    }\n",
       "\n",
       "    .dataframe thead th {\n",
       "        text-align: right;\n",
       "    }\n",
       "</style>\n",
       "<table border=\"1\" class=\"dataframe\">\n",
       "  <thead>\n",
       "    <tr style=\"text-align: right;\">\n",
       "      <th></th>\n",
       "      <th>text</th>\n",
       "      <th>relevance</th>\n",
       "    </tr>\n",
       "  </thead>\n",
       "  <tbody>\n",
       "    <tr>\n",
       "      <th>0</th>\n",
       "      <td>NEW YORK -- Yields on most certificates of dep...</td>\n",
       "      <td>yes</td>\n",
       "    </tr>\n",
       "    <tr>\n",
       "      <th>1</th>\n",
       "      <td>The Wall Street Journal Online&lt;/br&gt;&lt;/br&gt;The Mo...</td>\n",
       "      <td>no</td>\n",
       "    </tr>\n",
       "    <tr>\n",
       "      <th>2</th>\n",
       "      <td>WASHINGTON -- In an effort to achieve banking ...</td>\n",
       "      <td>no</td>\n",
       "    </tr>\n",
       "    <tr>\n",
       "      <th>3</th>\n",
       "      <td>The statistics on the enormous costs of employ...</td>\n",
       "      <td>no</td>\n",
       "    </tr>\n",
       "    <tr>\n",
       "      <th>4</th>\n",
       "      <td>NEW YORK -- Indecision marked the dollar's ton...</td>\n",
       "      <td>yes</td>\n",
       "    </tr>\n",
       "  </tbody>\n",
       "</table>\n",
       "</div>"
      ],
      "text/plain": [
       "                                                text relevance\n",
       "0  NEW YORK -- Yields on most certificates of dep...       yes\n",
       "1  The Wall Street Journal Online</br></br>The Mo...        no\n",
       "2  WASHINGTON -- In an effort to achieve banking ...        no\n",
       "3  The statistics on the enormous costs of employ...        no\n",
       "4  NEW YORK -- Indecision marked the dollar's ton...       yes"
      ]
     },
     "execution_count": 3,
     "metadata": {},
     "output_type": "execute_result"
    }
   ],
   "source": [
    "df.head()"
   ]
  },
  {
   "cell_type": "code",
   "execution_count": 4,
   "id": "48c648c6",
   "metadata": {},
   "outputs": [
    {
     "data": {
      "text/plain": [
       "(8000, 2)"
      ]
     },
     "execution_count": 4,
     "metadata": {},
     "output_type": "execute_result"
    }
   ],
   "source": [
    "df.shape"
   ]
  },
  {
   "cell_type": "code",
   "execution_count": 5,
   "id": "145304f4",
   "metadata": {},
   "outputs": [
    {
     "data": {
      "text/plain": [
       "no          6571\n",
       "yes         1420\n",
       "not sure       9\n",
       "Name: relevance, dtype: int64"
      ]
     },
     "execution_count": 5,
     "metadata": {},
     "output_type": "execute_result"
    }
   ],
   "source": [
    "df.relevance.value_counts()"
   ]
  },
  {
   "cell_type": "markdown",
   "id": "6c84b63c",
   "metadata": {},
   "source": [
    "# Here \"not sure\" values doesnot help us to check the relevance, so let us drop those values"
   ]
  },
  {
   "cell_type": "code",
   "execution_count": 6,
   "id": "25acdb0c",
   "metadata": {},
   "outputs": [
    {
     "data": {
      "text/plain": [
       "(7991, 2)"
      ]
     },
     "execution_count": 6,
     "metadata": {},
     "output_type": "execute_result"
    }
   ],
   "source": [
    "df = df[df.relevance != \"not sure\"]\n",
    "df.shape"
   ]
  },
  {
   "cell_type": "code",
   "execution_count": 7,
   "id": "254eff84",
   "metadata": {},
   "outputs": [
    {
     "data": {
      "image/png": "[encoded data removed]",
      "text/plain": [
       "<Figure size 864x432 with 1 Axes>"
      ]
     },
     "metadata": {},
     "output_type": "display_data"
    }
   ],
   "source": [
    "a=['NO','YES']\n",
    "plt.figure(figsize=(12,6))\n",
    "plt.pie(df.relevance.value_counts(),labels=a,autopct = \"%1.1f%%\")\n",
    "plt.title(\"VISUALIZING NUMBER OF YES AND NO'S OF RELEVANCE IN THE LOADED DATASET DF\")\n",
    "plt.legend()\n",
    "plt.show()"
   ]
  },
  {
   "cell_type": "code",
   "execution_count": 8,
   "id": "81af36f0",
   "metadata": {},
   "outputs": [
    {
     "data": {
      "image/png": "[encoded data removed]",
      "text/plain": [
       "<Figure size 864x432 with 1 Axes>"
      ]
     },
     "metadata": {
      "needs_background": "light"
     },
     "output_type": "display_data"
    }
   ],
   "source": [
    "a=['NO','YES']\n",
    "plt.figure(figsize=(12,6))\n",
    "plt.bar(a,df.relevance.value_counts())\n",
    "plt.title(\"VISUALIZING NUMBER OF YES AND NO'S OF RELEVANCE IN THE LOADED DATASET DF\")\n",
    "plt.show()"
   ]
  },
  {
   "cell_type": "code",
   "execution_count": 9,
   "id": "bb8f1d96",
   "metadata": {},
   "outputs": [
    {
     "data": {
      "text/plain": [
       "array([1, 0])"
      ]
     },
     "execution_count": 9,
     "metadata": {},
     "output_type": "execute_result"
    }
   ],
   "source": [
    "#label encoding relevance column of dataset which contain categorical data of YES or NO.\n",
    "from sklearn import preprocessing\n",
    "label_encoder = preprocessing.LabelEncoder()\n",
    "df['relevance']= label_encoder.fit_transform(df['relevance'])\n",
    "df['relevance'].unique()"
   ]
  },
  {
   "cell_type": "code",
   "execution_count": 54,
   "id": "4a9c7f83",
   "metadata": {},
   "outputs": [
    {
     "data": {
      "text/plain": [
       "0    6571\n",
       "1    1420\n",
       "Name: relevance, dtype: int64"
      ]
     },
     "execution_count": 54,
     "metadata": {},
     "output_type": "execute_result"
    }
   ],
   "source": [
    "df.relevance.value_counts()"
   ]
  },
  {
   "cell_type": "markdown",
   "id": "637da5ab",
   "metadata": {},
   "source": [
    "# Preprocessing the text data using NLTK's library and cleaning and stemming a text corpus and also storing the text finally in corpus list"
   ]
  },
  {
   "cell_type": "code",
   "execution_count": 10,
   "id": "3f96aede",
   "metadata": {},
   "outputs": [
    {
     "name": "stderr",
     "output_type": "stream",
     "text": [
      "[nltk_data] Downloading package stopwords to\n",
      "[nltk_data]     C:\\Users\\HP\\AppData\\Roaming\\nltk_data...\n",
      "[nltk_data]   Package stopwords is already up-to-date!\n"
     ]
    }
   ],
   "source": [
    "import re\n",
    "import nltk\n",
    "nltk.download('stopwords')\n",
    "from nltk.corpus import stopwords\n",
    "from nltk.stem.porter import PorterStemmer\n",
    "\n",
    "corpus = []\n",
    "for i in range(0, 7991):\n",
    "    review = re.sub('[^a-zA-Z]', ' ', df.iloc[i]['text'])\n",
    "    review = review.lower()\n",
    "    review = review.split()\n",
    "    ps = PorterStemmer()\n",
    "    all_stopwords = stopwords.words('english')\n",
    "    all_stopwords.remove('not')\n",
    "    review = [ps.stem(word) for word in review if not word in set(all_stopwords)]\n",
    "    review = ' '.join(review)\n",
    "    corpus.append(review)"
   ]
  },
  {
   "cell_type": "code",
   "execution_count": 11,
   "id": "a8e67a58",
   "metadata": {},
   "outputs": [
    {
     "name": "stdout",
     "output_type": "stream",
     "text": [
      "['new york yield certif deposit offer major bank drop tenth percentag point latest week reflect overal declin short term interest rate br br small denomin consum cd sold directli bank averag yield six month deposit fell week end yesterday accord bank survey banxquot money market wilmington del inform servic br br three month consum deposit averag yield sank week accord banxquot two bank banxquot survey citibank new york corest pennsylvania pay less threemonth small denomin cd br br declin somewhat smaller five year consum cd eas banxquot said br br yield three month six month treasuri bill sold monday auction plummet fifth percentag point previou week respect']\n"
     ]
    }
   ],
   "source": [
    "print(corpus[:1])"
   ]
  },
  {
   "cell_type": "markdown",
   "id": "b2b9a357",
   "metadata": {},
   "source": [
    "# Creating the Bag of Words model"
   ]
  },
  {
   "cell_type": "code",
   "execution_count": 12,
   "id": "883a4bbe",
   "metadata": {},
   "outputs": [],
   "source": [
    "from sklearn.feature_extraction.text import CountVectorizer\n",
    "cv = CountVectorizer(max_features = 27000)\n",
    "X = cv.fit_transform(corpus).toarray()\n",
    "y = df['relevance']"
   ]
  },
  {
   "cell_type": "code",
   "execution_count": 13,
   "id": "2070535a",
   "metadata": {},
   "outputs": [
    {
     "data": {
      "text/plain": [
       "27000"
      ]
     },
     "execution_count": 13,
     "metadata": {},
     "output_type": "execute_result"
    }
   ],
   "source": [
    "len(X[0])"
   ]
  },
  {
   "cell_type": "markdown",
   "id": "d81361cb",
   "metadata": {},
   "source": [
    "# Splitting the dataset into the Training set and Test set"
   ]
  },
  {
   "cell_type": "code",
   "execution_count": 14,
   "id": "b10d7d1a",
   "metadata": {},
   "outputs": [],
   "source": [
    "from sklearn.model_selection import train_test_split\n",
    "X_train, X_test, y_train, y_test = train_test_split(X, y, test_size = 0.20, random_state = 0)"
   ]
  },
  {
   "cell_type": "code",
   "execution_count": 15,
   "id": "75e25a3c",
   "metadata": {},
   "outputs": [
    {
     "data": {
      "text/plain": [
       "array([[0, 0, 0, ..., 0, 0, 0],\n",
       "       [0, 0, 0, ..., 0, 0, 0],\n",
       "       [0, 0, 0, ..., 0, 0, 0],\n",
       "       ...,\n",
       "       [0, 0, 0, ..., 0, 0, 0],\n",
       "       [0, 0, 0, ..., 0, 0, 0],\n",
       "       [0, 0, 0, ..., 0, 0, 0]], dtype=int64)"
      ]
     },
     "execution_count": 15,
     "metadata": {},
     "output_type": "execute_result"
    }
   ],
   "source": [
    "X_train"
   ]
  },
  {
   "cell_type": "code",
   "execution_count": 16,
   "id": "0e997834",
   "metadata": {},
   "outputs": [
    {
     "data": {
      "text/plain": [
       "6414    0\n",
       "4779    1\n",
       "598     1\n",
       "827     0\n",
       "676     0\n",
       "       ..\n",
       "4937    0\n",
       "3268    0\n",
       "1654    0\n",
       "2610    1\n",
       "2735    1\n",
       "Name: relevance, Length: 6392, dtype: int32"
      ]
     },
     "execution_count": 16,
     "metadata": {},
     "output_type": "execute_result"
    }
   ],
   "source": [
    "y_train"
   ]
  },
  {
   "cell_type": "markdown",
   "id": "bc5567c7",
   "metadata": {},
   "source": [
    "# BUILDING MODELS AND TRAINING THEM ON TRAIN DATA AND PREDICTIONG TEST DATA "
   ]
  },
  {
   "cell_type": "markdown",
   "id": "58269c28",
   "metadata": {},
   "source": [
    "1.NAIVE BAYES CLASSIFICATION"
   ]
  },
  {
   "cell_type": "code",
   "execution_count": 29,
   "id": "0554a3a2",
   "metadata": {},
   "outputs": [
    {
     "name": "stdout",
     "output_type": "stream",
     "text": [
      "Wall time: 4.8 s\n",
      "\n",
      "Training Accuracy score: 0.9333541927409261\n",
      "Testing Accuracy score: 0.7648530331457161\n"
     ]
    }
   ],
   "source": [
    "gnb = GaussianNB() \n",
    "%time gnb.fit(X_train, y_train)\n",
    "\n",
    "y_pred_train_NB = gnb.predict(X_train)\n",
    "y_pred_test_NB = gnb.predict(X_test)\n",
    "print(\"\\nTraining Accuracy score:\",accuracy_score(y_train, y_pred_train_NB))\n",
    "print(\"Testing Accuracy score:\",accuracy_score(y_test, y_pred_test_NB))"
   ]
  },
  {
   "cell_type": "code",
   "execution_count": 30,
   "id": "ab61d6f6",
   "metadata": {},
   "outputs": [
    {
     "name": "stdout",
     "output_type": "stream",
     "text": [
      "              precision    recall  f1-score   support\n",
      "\n",
      "not relevant       0.85      0.87      0.86      1309\n",
      "    relevant       0.33      0.29      0.31       290\n",
      "\n",
      "    accuracy                           0.76      1599\n",
      "   macro avg       0.59      0.58      0.58      1599\n",
      "weighted avg       0.75      0.76      0.76      1599\n",
      "\n"
     ]
    }
   ],
   "source": [
    "print(classification_report(y_test, y_pred_test_NB, target_names=['not relevant', 'relevant']))"
   ]
  },
  {
   "cell_type": "code",
   "execution_count": 38,
   "id": "f9735be1",
   "metadata": {},
   "outputs": [
    {
     "data": {
      "text/plain": [
       "0.7648530331457161"
      ]
     },
     "execution_count": 38,
     "metadata": {},
     "output_type": "execute_result"
    },
    {
     "data": {
      "image/png": "[encoded data removed]",
      "text/plain": [
       "<Figure size 432x288 with 2 Axes>"
      ]
     },
     "metadata": {
      "needs_background": "light"
     },
     "output_type": "display_data"
    }
   ],
   "source": [
    "from sklearn.metrics import confusion_matrix, accuracy_score\n",
    "#out of all the above models naives bayes model has higher accuracy than others\n",
    "cm = confusion_matrix(y_test,y_pred_test_NB)\n",
    "sns.heatmap(cm, annot=True, fmt='d', cmap='YlGnBu')\n",
    "accuracy_score(y_test, y_pred_test_NB)"
   ]
  },
  {
   "cell_type": "markdown",
   "id": "bbaccd10",
   "metadata": {},
   "source": [
    "# "
   ]
  },
  {
   "cell_type": "markdown",
   "id": "8545a44d",
   "metadata": {},
   "source": [
    "2. LOGISTIC REGRESSION"
   ]
  },
  {
   "cell_type": "code",
   "execution_count": 27,
   "id": "37a147d4",
   "metadata": {
    "scrolled": true
   },
   "outputs": [
    {
     "name": "stderr",
     "output_type": "stream",
     "text": [
      "C:\\Users\\HP\\anaconda3\\lib\\site-packages\\sklearn\\linear_model\\_logistic.py:763: ConvergenceWarning: lbfgs failed to converge (status=1):\n",
      "STOP: TOTAL NO. of ITERATIONS REACHED LIMIT.\n",
      "\n",
      "Increase the number of iterations (max_iter) or scale the data as shown in:\n",
      "    https://scikit-learn.org/stable/modules/preprocessing.html\n",
      "Please also refer to the documentation for alternative solver options:\n",
      "    https://scikit-learn.org/stable/modules/linear_model.html#logistic-regression\n",
      "  n_iter_i = _check_optimize_result(\n"
     ]
    },
    {
     "name": "stdout",
     "output_type": "stream",
     "text": [
      "Wall time: 12 s\n",
      "\n",
      "Training Accuracy score: 0.9964017521902377\n",
      "Testing Accuracy score: 0.7598499061913696\n"
     ]
    }
   ],
   "source": [
    "lr = LogisticRegression()\n",
    "%time lr.fit(X_train, y_train)\n",
    "\n",
    "y_pred_train_LR = lr.predict(X_train)\n",
    "y_pred_test_LR = lr.predict(X_test)\n",
    "print(\"\\nTraining Accuracy score:\",accuracy_score(y_train, y_pred_train_LR))\n",
    "print(\"Testing Accuracy score:\",accuracy_score(y_test, y_pred_test_LR))"
   ]
  },
  {
   "cell_type": "code",
   "execution_count": 31,
   "id": "b0be9e2d",
   "metadata": {
    "scrolled": true
   },
   "outputs": [
    {
     "name": "stdout",
     "output_type": "stream",
     "text": [
      "              precision    recall  f1-score   support\n",
      "\n",
      "not relevant       0.84      0.87      0.86      1309\n",
      "    relevant       0.31      0.26      0.28       290\n",
      "\n",
      "    accuracy                           0.76      1599\n",
      "   macro avg       0.57      0.56      0.57      1599\n",
      "weighted avg       0.74      0.76      0.75      1599\n",
      "\n"
     ]
    }
   ],
   "source": [
    "print(classification_report(y_test, y_pred_test_LR, target_names=['not relevant', 'relevant']))"
   ]
  },
  {
   "cell_type": "code",
   "execution_count": 39,
   "id": "1c8e0eb1",
   "metadata": {},
   "outputs": [
    {
     "data": {
      "text/plain": [
       "0.7598499061913696"
      ]
     },
     "execution_count": 39,
     "metadata": {},
     "output_type": "execute_result"
    },
    {
     "data": {
      "image/png": "[encoded data removed]",
      "text/plain": [
       "<Figure size 432x288 with 2 Axes>"
      ]
     },
     "metadata": {
      "needs_background": "light"
     },
     "output_type": "display_data"
    }
   ],
   "source": [
    "from sklearn.metrics import confusion_matrix, accuracy_score\n",
    "#out of all the above models naives bayes model has higher accuracy than others\n",
    "cm = confusion_matrix(y_test,y_pred_test_LR)\n",
    "sns.heatmap(cm, annot=True, fmt='d', cmap='YlGnBu')\n",
    "accuracy_score(y_test, y_pred_test_LR)"
   ]
  },
  {
   "cell_type": "markdown",
   "id": "b4354999",
   "metadata": {},
   "source": [
    "# "
   ]
  },
  {
   "cell_type": "markdown",
   "id": "2318d9a5",
   "metadata": {},
   "source": [
    "3.Support Vector Machine"
   ]
  },
  {
   "cell_type": "code",
   "execution_count": 32,
   "id": "c5dc24aa",
   "metadata": {},
   "outputs": [
    {
     "name": "stderr",
     "output_type": "stream",
     "text": [
      "C:\\Users\\HP\\anaconda3\\lib\\site-packages\\sklearn\\svm\\_base.py:985: ConvergenceWarning: Liblinear failed to converge, increase the number of iterations.\n",
      "  warnings.warn(\"Liblinear failed to converge, increase \"\n"
     ]
    },
    {
     "name": "stdout",
     "output_type": "stream",
     "text": [
      "Wall time: 2.33 s\n",
      "\n",
      "Training Accuracy score: 0.9996871088861077\n",
      "Testing Accuracy score: 0.7129455909943715\n"
     ]
    }
   ],
   "source": [
    "svc =  LinearSVC(class_weight='balanced') \n",
    "%time svc.fit(X_train, y_train)\n",
    "\n",
    "y_pred_train_SVC = svc.predict(X_train)\n",
    "y_pred_test_SVC = svc.predict(X_test)\n",
    "print(\"\\nTraining Accuracy score:\",accuracy_score(y_train, y_pred_train_SVC))\n",
    "print(\"Testing Accuracy score:\",accuracy_score(y_test, y_pred_test_SVC))"
   ]
  },
  {
   "cell_type": "code",
   "execution_count": 33,
   "id": "765f5756",
   "metadata": {},
   "outputs": [
    {
     "name": "stdout",
     "output_type": "stream",
     "text": [
      "              precision    recall  f1-score   support\n",
      "\n",
      "not relevant       0.84      0.80      0.82      1309\n",
      "    relevant       0.26      0.30      0.28       290\n",
      "\n",
      "    accuracy                           0.71      1599\n",
      "   macro avg       0.55      0.55      0.55      1599\n",
      "weighted avg       0.73      0.71      0.72      1599\n",
      "\n"
     ]
    }
   ],
   "source": [
    "print(classification_report(y_test, y_pred_test_SVC, target_names=['not relevant', 'relevant']))"
   ]
  },
  {
   "cell_type": "code",
   "execution_count": 40,
   "id": "cff3eebb",
   "metadata": {},
   "outputs": [
    {
     "data": {
      "text/plain": [
       "0.7129455909943715"
      ]
     },
     "execution_count": 40,
     "metadata": {},
     "output_type": "execute_result"
    },
    {
     "data": {
      "image/png": "[encoded data removed]",
      "text/plain": [
       "<Figure size 432x288 with 2 Axes>"
      ]
     },
     "metadata": {
      "needs_background": "light"
     },
     "output_type": "display_data"
    }
   ],
   "source": [
    "from sklearn.metrics import confusion_matrix, accuracy_score\n",
    "#out of all the above models naives bayes model has higher accuracy than others\n",
    "cm = confusion_matrix(y_test,y_pred_test_SVC)\n",
    "sns.heatmap(cm, annot=True, fmt='d', cmap='YlGnBu')\n",
    "accuracy_score(y_test, y_pred_test_SVC)"
   ]
  },
  {
   "cell_type": "markdown",
   "id": "8d1fed40",
   "metadata": {},
   "source": [
    "# "
   ]
  },
  {
   "cell_type": "markdown",
   "id": "b94be953",
   "metadata": {},
   "source": [
    "4.Decision Tree Classifier"
   ]
  },
  {
   "cell_type": "code",
   "execution_count": 23,
   "id": "f8829b43",
   "metadata": {},
   "outputs": [
    {
     "name": "stdout",
     "output_type": "stream",
     "text": [
      "Wall time: 2min 16s\n",
      "\n",
      "Training Accuracy score: 1.0\n",
      "Testing Accuracy score: 0.7467166979362101\n"
     ]
    }
   ],
   "source": [
    "from sklearn.tree import DecisionTreeClassifier\n",
    "\n",
    "dt = DecisionTreeClassifier()\n",
    "%time dt.fit(X_train, y_train)\n",
    "\n",
    "y_train = np.array(y_train)\n",
    "y_test = np.array(y_test)\n",
    "\n",
    "y_pred_train = dt.predict(X_train)\n",
    "y_pred_test = dt.predict(X_test)\n",
    "print(\"\\nTraining Accuracy score:\",accuracy_score(y_train, y_pred_train))\n",
    "print(\"Testing Accuracy score:\",accuracy_score(y_test, y_pred_test))"
   ]
  },
  {
   "cell_type": "code",
   "execution_count": 42,
   "id": "b5df216c",
   "metadata": {},
   "outputs": [
    {
     "name": "stdout",
     "output_type": "stream",
     "text": [
      "              precision    recall  f1-score   support\n",
      "\n",
      "not relevant       0.83      0.86      0.85      1309\n",
      "    relevant       0.27      0.23      0.25       290\n",
      "\n",
      "    accuracy                           0.75      1599\n",
      "   macro avg       0.55      0.54      0.55      1599\n",
      "weighted avg       0.73      0.75      0.74      1599\n",
      "\n"
     ]
    }
   ],
   "source": [
    "print(classification_report(y_test, y_pred_test, target_names=['not relevant', 'relevant']))"
   ]
  },
  {
   "cell_type": "code",
   "execution_count": 41,
   "id": "08b1e3e3",
   "metadata": {},
   "outputs": [
    {
     "data": {
      "text/plain": [
       "0.7467166979362101"
      ]
     },
     "execution_count": 41,
     "metadata": {},
     "output_type": "execute_result"
    },
    {
     "data": {
      "image/png": "[encoded data removed]",
      "text/plain": [
       "<Figure size 432x288 with 2 Axes>"
      ]
     },
     "metadata": {
      "needs_background": "light"
     },
     "output_type": "display_data"
    }
   ],
   "source": [
    "from sklearn.metrics import confusion_matrix, accuracy_score\n",
    "#out of all the above models naives bayes model has higher accuracy than others\n",
    "cm = confusion_matrix(y_test,y_pred_test)\n",
    "sns.heatmap(cm, annot=True, fmt='d', cmap='YlGnBu')\n",
    "accuracy_score(y_test, y_pred_test)"
   ]
  },
  {
   "cell_type": "markdown",
   "id": "6148d9a7",
   "metadata": {},
   "source": [
    "# Making the Confusion Matrix"
   ]
  },
  {
   "cell_type": "code",
   "execution_count": 37,
   "id": "9138f4cc",
   "metadata": {},
   "outputs": [
    {
     "data": {
      "text/plain": [
       "0.7648530331457161"
      ]
     },
     "execution_count": 37,
     "metadata": {},
     "output_type": "execute_result"
    },
    {
     "data": {
      "image/png": "[encoded data removed]",
      "text/plain": [
       "<Figure size 432x288 with 2 Axes>"
      ]
     },
     "metadata": {
      "needs_background": "light"
     },
     "output_type": "display_data"
    }
   ],
   "source": [
    "from sklearn.metrics import confusion_matrix, accuracy_score\n",
    "#out of all the above models naives bayes model has higher accuracy than others\n",
    "cm = confusion_matrix(y_test,y_pred_test_NB)\n",
    "sns.heatmap(cm, annot=True, fmt='d', cmap='YlGnBu')\n",
    "accuracy_score(y_test, y_pred_test_NB)"
   ]
  },
  {
   "cell_type": "code",
   "execution_count": 43,
   "id": "7c67a2c1",
   "metadata": {},
   "outputs": [],
   "source": [
    "def preprocess_text(text):\n",
    "    text = re.sub('[^a-zA-Z]', ' ', text)\n",
    "    text = text.lower()\n",
    "    words = text.split()\n",
    "    all_stopwords = stopwords.words('english')\n",
    "    all_stopwords.remove('not')\n",
    "    words = [ps.stem(word) for word in words if word not in all_stopwords]\n",
    "    cleaned_text = ' '.join(words)\n",
    "    return cleaned_text"
   ]
  },
  {
   "cell_type": "code",
   "execution_count": 45,
   "id": "620f02c8",
   "metadata": {},
   "outputs": [],
   "source": [
    "x=\"WASHINGTON -- The Conference Board's index of leading indicators moved up slightly in March, signaling that U.S. economic expansion probably will continue vigorously through 1998.</br></br>Michael D. Boldin, director of business-cycle research at the New York business-research organization, said the economic omens point to continued strong growth in gross domestic product in the months ahead.</br></br>It looks like above 3% is not impossible for the whole year, Mr. Boldin said. Last week, the government reported that the economy expanded in the first quarter at an annualized rate of 4.2%, but few economists believe that\"\n",
    "preprocessed_x=preprocess_text(x)"
   ]
  },
  {
   "cell_type": "code",
   "execution_count": 46,
   "id": "2ec06726",
   "metadata": {},
   "outputs": [],
   "source": [
    "import pickle\n",
    "pickle.dump(gnb,open('Economic_relevance_usingNLP.pkl','wb'))"
   ]
  },
  {
   "cell_type": "code",
   "execution_count": 47,
   "id": "f0140404",
   "metadata": {},
   "outputs": [
    {
     "data": {
      "text/plain": [
       "GaussianNB()"
      ]
     },
     "execution_count": 47,
     "metadata": {},
     "output_type": "execute_result"
    }
   ],
   "source": [
    "Model_log = pickle.load(open('Economic_relevance_usingNLP.pkl','rb'))\n",
    "Model_log"
   ]
  },
  {
   "cell_type": "code",
   "execution_count": 53,
   "id": "13c29575",
   "metadata": {},
   "outputs": [
    {
     "name": "stdout",
     "output_type": "stream",
     "text": [
      "Predicted Result: 1\n"
     ]
    }
   ],
   "source": [
    "# Create a list containing the preprocessed text\n",
    "preprocessed_x_list = [preprocessed_x]\n",
    "\n",
    "#Transform the list of preprocessed text\n",
    "modified_X = cv.transform(preprocessed_x_list)\n",
    "\n",
    "dense_X = modified_X.toarray()\n",
    "\n",
    "predicted_result = Model_log.predict(dense_X)\n",
    "print(\"Predicted Result:\", predicted_result[0]) #1-->YES        0-->NO"
   ]
  }
 ],
 "metadata": {
  "kernelspec": {
   "display_name": "Python 3 (ipykernel)",
   "language": "python",
   "name": "python3"
  },
  "language_info": {
   "codemirror_mode": {
    "name": "ipython",
    "version": 3
   },
   "file_extension": ".py",
   "mimetype": "text/x-python",
   "name": "python",
   "nbconvert_exporter": "python",
   "pygments_lexer": "ipython3",
   "version": "3.9.7"
  }
 },
 "nbformat": 4,
 "nbformat_minor": 5
}
